{
 "cells": [
  {
   "cell_type": "code",
   "execution_count": null,
   "metadata": {},
   "outputs": [],
   "source": [
    "import pandas as pd\n",
    "import json\n",
    "import re\n",
    "from tqdm import tqdm\n",
    "from datasets import load_dataset\n",
    "from collections import Counter"
   ]
  },
  {
   "attachments": {},
   "cell_type": "markdown",
   "metadata": {},
   "source": [
    "### Getting KorQuard1.0 and preprocess"
   ]
  },
  {
   "cell_type": "code",
   "execution_count": null,
   "metadata": {},
   "outputs": [],
   "source": [
    "dataset = load_dataset(\"squad_kor_v1\")"
   ]
  },
  {
   "cell_type": "code",
   "execution_count": null,
   "metadata": {},
   "outputs": [],
   "source": [
    "korquard2_train = pd.DataFrame(dataset['train'])\n",
    "korquard2_val = pd.DataFrame(dataset['validation'])"
   ]
  },
  {
   "cell_type": "code",
   "execution_count": null,
   "metadata": {},
   "outputs": [],
   "source": [
    "korquard2 = pd.concat([korquard2_train, korquard2_val], ignore_index=True)"
   ]
  },
  {
   "cell_type": "code",
   "execution_count": null,
   "metadata": {},
   "outputs": [],
   "source": [
    "title_list = []\n",
    "context_list = []\n",
    "question_list = []\n",
    "id_list = []\n",
    "answers_list = []\n",
    "document_id_list = []\n",
    "for index, row in korquard2.iterrows():\n",
    "    title_list.append(str(row['title']))\n",
    "    context_list.append(str(row['context']))\n",
    "    question_list.append(str(row['question']))\n",
    "    id_list.append(row['id'])\n",
    "    answers_list.append(row['answers'])\n",
    "    document_id_list.append(0)"
   ]
  },
  {
   "cell_type": "code",
   "execution_count": null,
   "metadata": {},
   "outputs": [],
   "source": [
    "processed_korquard = {\n",
    "    \"title\" : title_list,\n",
    "    \"context\" : context_list,\n",
    "    \"question\" : question_list,\n",
    "    \"id\" : id_list,\n",
    "    \"answers\" : answers_list,\n",
    "    \"document_id\" : document_id_list,\n",
    "}"
   ]
  },
  {
   "cell_type": "code",
   "execution_count": null,
   "metadata": {},
   "outputs": [],
   "source": [
    "processed_korquard_df = pd.DataFrame(processed_korquard)"
   ]
  },
  {
   "cell_type": "code",
   "execution_count": null,
   "metadata": {},
   "outputs": [],
   "source": [
    "processed_korquard_df.head()"
   ]
  },
  {
   "attachments": {},
   "cell_type": "markdown",
   "metadata": {},
   "source": [
    "### Getting Raw Data"
   ]
  },
  {
   "cell_type": "code",
   "execution_count": null,
   "metadata": {},
   "outputs": [],
   "source": [
    "from datasets import DatasetDict, load_from_disk\n",
    "datasets = load_from_disk(\"./data/train_dataset\")"
   ]
  },
  {
   "cell_type": "code",
   "execution_count": null,
   "metadata": {},
   "outputs": [],
   "source": [
    "raw_train = pd.DataFrame(datasets['train'])"
   ]
  },
  {
   "cell_type": "code",
   "execution_count": null,
   "metadata": {},
   "outputs": [],
   "source": [
    "# 제목별 빈도수 확인\n",
    "num_title = sorted(dict(Counter(raw_train['title'])).items(), key=lambda x: x[1], reverse=True)\n",
    "num_title"
   ]
  },
  {
   "attachments": {},
   "cell_type": "markdown",
   "metadata": {},
   "source": [
    "### 원본 데이터에서 적은 문서의 경우에만 추가."
   ]
  },
  {
   "cell_type": "code",
   "execution_count": null,
   "metadata": {},
   "outputs": [],
   "source": [
    "for_add = []\n",
    "for t, n in num_title:\n",
    "    # 1. 해당 제목의 데이터가 43보다 적은데 korquard 데이터에 해당 데이터가 43만큼 충분히 채울수 있는 경우\n",
    "    if n < 43:\n",
    "        num_korquard = len(processed_korquard_df[processed_korquard_df['title']==t])\n",
    "        if num_korquard >= (43 - n):\n",
    "            df = processed_korquard_df[processed_korquard_df['title']==t]\n",
    "            df = df.sample(n=(43-n), random_state=42)\n",
    "            for_add.append(df)\n",
    "        elif 0 < num_korquard < (43-n):\n",
    "            df = processed_korquard_df[processed_korquard_df['title']==t]\n",
    "            for_add.append(df)"
   ]
  },
  {
   "cell_type": "code",
   "execution_count": null,
   "metadata": {},
   "outputs": [],
   "source": [
    "for_add.append(raw_train)\n",
    "sampled_train = pd.concat(for_add, ignore_index=True)"
   ]
  },
  {
   "cell_type": "code",
   "execution_count": null,
   "metadata": {},
   "outputs": [],
   "source": [
    "# 제목별 빈도수 확인\n",
    "sampled_num_title = sorted(dict(Counter(sampled_train['title'])).items(), key=lambda x: x[1], reverse=True)\n",
    "sampled_num_title"
   ]
  },
  {
   "cell_type": "code",
   "execution_count": null,
   "metadata": {},
   "outputs": [],
   "source": [
    "temp=0\n",
    "for t, n in sampled_num_title:\n",
    "    temp+=n\n",
    "temp/len(sampled_num_title)"
   ]
  },
  {
   "cell_type": "code",
   "execution_count": null,
   "metadata": {},
   "outputs": [],
   "source": [
    "# 훈련 데이터에 존재하지 않는데 korquard에는 존재하는 데이터들 추가\n",
    "for_concat=[]\n",
    "for t in set(processed_korquard_df['title']):\n",
    "    if t not in set(raw_train['title']) :\n",
    "        df = processed_korquard_df[processed_korquard_df['title']==t]\n",
    "        df = df.sample(n=1, random_state=42)\n",
    "        for_concat.append(df)"
   ]
  },
  {
   "cell_type": "code",
   "execution_count": null,
   "metadata": {},
   "outputs": [],
   "source": [
    "for_concat.append(sampled_train)\n",
    "sampled_all_data = pd.concat(for_concat, ignore_index=True)\n",
    "sampled_all_data"
   ]
  },
  {
   "cell_type": "code",
   "execution_count": null,
   "metadata": {},
   "outputs": [],
   "source": [
    "# 제목별 빈도수 확인\n",
    "final_num_title = sorted(dict(Counter(sampled_all_data['title'])).items(), key=lambda x: x[1], reverse=True)\n",
    "final_num_title"
   ]
  },
  {
   "attachments": {},
   "cell_type": "markdown",
   "metadata": {},
   "source": [
    "### 데이터 Huggingface에 올리기"
   ]
  },
  {
   "cell_type": "code",
   "execution_count": null,
   "metadata": {},
   "outputs": [],
   "source": [
    "from datasets import Dataset\n",
    "concated_dataset = Dataset.from_pandas(sampled_all_data)"
   ]
  },
  {
   "cell_type": "code",
   "execution_count": null,
   "metadata": {},
   "outputs": [],
   "source": [
    "concated_dataset"
   ]
  },
  {
   "cell_type": "code",
   "execution_count": null,
   "metadata": {},
   "outputs": [],
   "source": [
    "# 경로 꼭 바꿔주세요!!!!\n",
    "# gaeunseo -> 본인 huggingface 계정 이름으로 바꿔주세요\n",
    "concated_dataset.push_to_hub(\"gaeunseo/korquard1_and_rawtrain_sampled\", private=True)"
   ]
  }
 ],
 "metadata": {
  "kernelspec": {
   "display_name": "base",
   "language": "python",
   "name": "python3"
  },
  "language_info": {
   "codemirror_mode": {
    "name": "ipython",
    "version": 3
   },
   "file_extension": ".py",
   "mimetype": "text/x-python",
   "name": "python",
   "nbconvert_exporter": "python",
   "pygments_lexer": "ipython3",
   "version": "3.8.5"
  },
  "orig_nbformat": 4
 },
 "nbformat": 4,
 "nbformat_minor": 2
}
